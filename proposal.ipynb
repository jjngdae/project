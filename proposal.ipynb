{
 "cells": [
  {
   "cell_type": "markdown",
   "id": "33d1a2e3-1bee-49ca-b107-65ecf815f99e",
   "metadata": {},
   "source": [
    "**Introduction**\n",
    "In this raw dataset, 14 variables are used to deduce whether or not a patient has heart disease from 0 (absence) and 1-4 (presence). Using the processed Cleveland dataset I will apply the variables.\n",
    "During this exploration, I seek to deduce and predict whether patients have heart disease, as well as what the relationship between the three variables is in contributing to the presence or absence of heart disease."
   ]
  },
  {
   "cell_type": "markdown",
   "id": "b6a095ac-4d9d-4994-8ac4-acc236f82526",
   "metadata": {},
   "source": [
    "**Methods**\n",
    "I have chosen to use the \"trestbps\" and \"col\" variables to predict whether or not a patient will have heart disease (column \"num\"). These variables were chosen because there are possibilities of having different numbers instead of ones that can only be 0 or 1, which deems them to have equal probability regardless of the classifier and thus rendering it irrelevant. In order to do so, I will create a classification model using the K-nearest neighbors model. First, I have cleaned the data so that all the unknown values were filtered out, and only the three columns I'm interested in remain. Then, I split the data into training and testing sets, which I will use to predict the presence or absence of heart disease by creating a recipe and a workflow."
   ]
  },
  {
   "cell_type": "markdown",
   "id": "c1116477-dec0-465a-a1e7-aa6176bb2f61",
   "metadata": {},
   "source": [
    "**Expected results** \n",
    "From previous knowledge, I expect that having a higher blood pressure and cholesterol makes it more likely for a patient to have heart disease. After knowing the relationships between the blood pressure, cholesterol, and presence/absence of heart disease, the findings can be used to determine the likelihood for a patient to have the disease, and if they need to change any aspect of their lifestyle to reduce that likelihood. "
   ]
  },
  {
   "cell_type": "code",
   "execution_count": null,
   "id": "5f700607-c9f5-47fe-b0bc-b7a232d52d97",
   "metadata": {},
   "outputs": [],
   "source": []
  }
 ],
 "metadata": {
  "kernelspec": {
   "display_name": "R",
   "language": "R",
   "name": "ir"
  },
  "language_info": {
   "codemirror_mode": "r",
   "file_extension": ".r",
   "mimetype": "text/x-r-source",
   "name": "R",
   "pygments_lexer": "r",
   "version": "4.3.1"
  }
 },
 "nbformat": 4,
 "nbformat_minor": 5
}
